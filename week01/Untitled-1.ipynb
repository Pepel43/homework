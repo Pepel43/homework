{
 "cells": [
  {
   "cell_type": "code",
   "execution_count": null,
   "metadata": {},
   "outputs": [
    {
     "name": "stdout",
     "output_type": "stream",
     "text": [
      "Defaulting to user installation because normal site-packages is not writeable\n",
      "Collecting jax==0.4.23\n",
      "  Downloading jax-0.4.23-py3-none-any.whl.metadata (24 kB)\n",
      "Collecting jaxlib==0.4.23\n",
      "  Downloading jaxlib-0.4.23-cp312-cp312-manylinux2014_x86_64.whl.metadata (2.1 kB)\n",
      "Requirement already satisfied: ml-dtypes>=0.2.0 in /home/pepel/.local/lib/python3.12/site-packages (from jax==0.4.23) (0.4.1)\n",
      "Requirement already satisfied: numpy>=1.22 in /home/pepel/.local/lib/python3.12/site-packages (from jax==0.4.23) (1.26.4)\n",
      "Requirement already satisfied: opt-einsum in /home/pepel/.local/lib/python3.12/site-packages (from jax==0.4.23) (3.4.0)\n",
      "Requirement already satisfied: scipy>=1.9 in /home/pepel/.local/lib/python3.12/site-packages (from jax==0.4.23) (1.14.1)\n",
      "Downloading jax-0.4.23-py3-none-any.whl (1.7 MB)\n",
      "\u001b[2K   \u001b[90m━━━━━━━━━━━━━━━━━━━━━━━━━━━━━━━━━━━━━━━━\u001b[0m \u001b[32m1.7/1.7 MB\u001b[0m \u001b[31m1.2 MB/s\u001b[0m eta \u001b[36m0:00:00\u001b[0ma \u001b[36m0:00:01\u001b[0m\n",
      "\u001b[?25hDownloading jaxlib-0.4.23-cp312-cp312-manylinux2014_x86_64.whl (77.2 MB)\n",
      "\u001b[2K   \u001b[90m━━━━━━━━━━━━━━━━━━━━━━━━━━━━━━━━━━━━━━━━\u001b[0m \u001b[32m77.2/77.2 MB\u001b[0m \u001b[31m692.6 kB/s\u001b[0m eta \u001b[36m0:00:00\u001b[0m00:01\u001b[0m00:03\u001b[0m\n",
      "\u001b[?25hInstalling collected packages: jaxlib, jax\n",
      "  Attempting uninstall: jaxlib\n",
      "    Found existing installation: jaxlib 0.4.34\n",
      "    Uninstalling jaxlib-0.4.34:\n",
      "      Successfully uninstalled jaxlib-0.4.34\n",
      "  Attempting uninstall: jax\n",
      "    Found existing installation: jax 0.4.34\n",
      "    Uninstalling jax-0.4.34:\n",
      "      Successfully uninstalled jax-0.4.34\n",
      "Successfully installed jax-0.4.23 jaxlib-0.4.23\n",
      "Note: you may need to restart the kernel to use updated packages.\n",
      "Note: you may need to restart the kernel to use updated packages.\n",
      "^C\n",
      "\u001b[31mERROR: Operation cancelled by user\u001b[0m\u001b[31m\n",
      "\u001b[0mNote: you may need to restart the kernel to use updated packages.\n"
     ]
    }
   ],
   "source": [
    "#@title Необходимые функции\n",
    "%pip install jax==0.4.23 jaxlib==0.4.23\n",
    "%pip -q install diffusers\n",
    "%pip -q install transformers scipy ftfy accelerate\n",
    "%pip -q install \"ipywidgets>=7,<8\"\n",
    "import torch\n",
    "from diffusers import StableDiffusionPipeline\n",
    "from PIL import Image\n",
    "\n",
    "from google.colab import output\n",
    "output.enable_custom_widget_manager()\n",
    "\n",
    "stableDiffusion = StableDiffusionPipeline.from_pretrained(\"CompVis/stable-diffusion-v1-4\", revision=\"fp16\", torch_dtype=torch.float16)\n",
    "stableDiffusion = stableDiffusion.to(\"cuda\")\n",
    "\n",
    "\n",
    "def createImagesStableDiffusion(prompt='', rows=2, cols=2, iteration=20):\n",
    "  # Запускаем генерацию\n",
    "  images =  stableDiffusion([prompt] * (rows*cols), num_inference_steps=iteration).images\n",
    "  w, h = images[0].size\n",
    "  grid = Image.new('RGB', size=(cols*w, rows*h))\n",
    "  grid_w, grid_h = grid.size\n",
    "\n",
    "  for i, img in enumerate(images):\n",
    "      grid.paste(img, box=(i%cols*w, i//cols*h))\n",
    "  display(grid)"
   ]
  }
 ],
 "metadata": {
  "kernelspec": {
   "display_name": "Python 3",
   "language": "python",
   "name": "python3"
  },
  "language_info": {
   "codemirror_mode": {
    "name": "ipython",
    "version": 3
   },
   "file_extension": ".py",
   "mimetype": "text/x-python",
   "name": "python",
   "nbconvert_exporter": "python",
   "pygments_lexer": "ipython3",
   "version": "3.12.1"
  }
 },
 "nbformat": 4,
 "nbformat_minor": 2
}
