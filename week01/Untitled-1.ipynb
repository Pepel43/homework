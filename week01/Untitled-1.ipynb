{
 "cells": [
  {
   "cell_type": "code",
   "execution_count": null,
   "metadata": {},
   "outputs": [],
   "source": [
    "#@title Необходимые функции\n",
    "%pip install jax==0.4.23 jaxlib==0.4.23\n",
    "%pip -q install diffusers\n",
    "%pip -q install transformers scipy ftfy accelerate\n",
    "%pip -q install \"ipywidgets>=7,<8\"\n",
    "import torch\n",
    "from diffusers import StableDiffusionPipeline\n",
    "from PIL import Image\n",
    "\n",
    "from google.colab import output\n",
    "output.enable_custom_widget_manager()\n",
    "\n",
    "stableDiffusion = StableDiffusionPipeline.from_pretrained(\"CompVis/stable-diffusion-v1-4\", revision=\"fp16\", torch_dtype=torch.float16)\n",
    "stableDiffusion = stableDiffusion.to(\"cuda\")\n",
    "\n",
    "\n",
    "def createImagesStableDiffusion(prompt='', rows=2, cols=2, iteration=20):\n",
    "  # Запускаем генерацию\n",
    "  images =  stableDiffusion([prompt] * (rows*cols), num_inference_steps=iteration).images\n",
    "  w, h = images[0].size\n",
    "  grid = Image.new('RGB', size=(cols*w, rows*h))\n",
    "  grid_w, grid_h = grid.size\n",
    "\n",
    "  for i, img in enumerate(images):\n",
    "      grid.paste(img, box=(i%cols*w, i//cols*h))\n",
    "  display(grid)"
   ]
  },
  {
   "cell_type": "code",
   "execution_count": null,
   "metadata": {},
   "outputs": [],
   "source": [
    "# Изменяя текст в кавычках получайте различные изображени. Вам необходимо получить 5 разных генераций, которыми вы захотите поделиться с Куратором :)\n",
    "createImagesStableDiffusion(\n",
    "    'Salvador Dali walks down the street with a cockroach on a leash, city, surrealism, crowded, people turn around, 8k, highly detailed, –ar 16:9 ', 2, 2, 100)"
   ]
  }
 ],
 "metadata": {
  "kernelspec": {
   "display_name": "Python 3",
   "language": "python",
   "name": "python3"
  },
  "language_info": {
   "codemirror_mode": {
    "name": "ipython",
    "version": 3
   },
   "file_extension": ".py",
   "mimetype": "text/x-python",
   "name": "python",
   "nbconvert_exporter": "python",
   "pygments_lexer": "ipython3",
   "version": "3.12.1"
  }
 },
 "nbformat": 4,
 "nbformat_minor": 2
}
